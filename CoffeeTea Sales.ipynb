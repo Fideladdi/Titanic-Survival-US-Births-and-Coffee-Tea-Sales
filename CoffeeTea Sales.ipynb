{
 "cells": [
  {
   "cell_type": "code",
   "execution_count": null,
   "id": "initial_id",
   "metadata": {
    "collapsed": true
   },
   "outputs": [],
   "source": [
    "import pandas as pd"
   ]
  },
  {
   "cell_type": "code",
   "execution_count": null,
   "outputs": [],
   "source": [
    "filename = 'Assign1_Q3.csv'\n",
    "df = pd.read_csv(filename)"
   ],
   "metadata": {
    "collapsed": false
   },
   "id": "e0f2c50d83d4902c"
  },
  {
   "cell_type": "code",
   "execution_count": null,
   "outputs": [],
   "source": [
    "df.head()"
   ],
   "metadata": {
    "collapsed": false
   },
   "id": "e0233b2a144e4d2"
  },
  {
   "cell_type": "markdown",
   "source": [],
   "metadata": {
    "collapsed": false
   },
   "id": "6bf5ef8de9456ead"
  },
  {
   "cell_type": "code",
   "execution_count": null,
   "outputs": [],
   "source": [
    "cost_per_category_by_sales_region = pd.crosstab(df['region'], df['product_category'],values=df['cost'], aggfunc='mean').fillna(0).round(2)\n",
    "cost_per_category_by_sales_region"
   ],
   "metadata": {
    "collapsed": false
   },
   "id": "1bdbc66b82678f0a"
  },
  {
   "cell_type": "code",
   "execution_count": null,
   "outputs": [],
   "source": [
    "cost_per_category_by_sales_region.index.name = 'Sales Region'\n",
    "cost_per_category_by_sales_region.columns.name = 'Product Category'\n",
    "cost_per_category_by_sales_region"
   ],
   "metadata": {
    "collapsed": false
   },
   "id": "74d6734f3f9e2ac9"
  }
 ],
 "metadata": {
  "kernelspec": {
   "display_name": "Python 3",
   "language": "python",
   "name": "python3"
  },
  "language_info": {
   "codemirror_mode": {
    "name": "ipython",
    "version": 2
   },
   "file_extension": ".py",
   "mimetype": "text/x-python",
   "name": "python",
   "nbconvert_exporter": "python",
   "pygments_lexer": "ipython2",
   "version": "2.7.6"
  }
 },
 "nbformat": 4,
 "nbformat_minor": 5
}
