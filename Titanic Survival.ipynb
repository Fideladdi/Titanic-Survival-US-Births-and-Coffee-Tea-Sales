{
 "cells": [
  {
   "cell_type": "code",
   "execution_count": null,
   "id": "initial_id",
   "metadata": {
    "collapsed": true
   },
   "outputs": [],
   "source": [
    "import pandas as pd\n",
    "filename = 'train.csv'\n",
    "df = pd.read_csv(filename)"
   ]
  },
  {
   "cell_type": "code",
   "execution_count": null,
   "outputs": [],
   "source": [
    "df"
   ],
   "metadata": {
    "collapsed": false
   },
   "id": "ab08ba4e65de10f7"
  },
  {
   "cell_type": "code",
   "execution_count": null,
   "outputs": [],
   "source": [
    "df.isna().sum() # Cabin has 544 missing values"
   ],
   "metadata": {
    "collapsed": false
   },
   "id": "bf88da6ef60265c"
  },
  {
   "cell_type": "code",
   "execution_count": null,
   "outputs": [],
   "source": [
    "df['Cabin'].unique()"
   ],
   "metadata": {
    "collapsed": false
   },
   "id": "b6ce37300d26cfee"
  },
  {
   "cell_type": "code",
   "execution_count": null,
   "outputs": [],
   "source": [
    "#Dropping missing values in the cab column\n",
    "df.dropna(subset = ['Cabin'], inplace=True) # using subset to dropna from the Cabin column"
   ],
   "metadata": {
    "collapsed": false
   },
   "id": "574e78bbca580460"
  },
  {
   "cell_type": "code",
   "execution_count": null,
   "outputs": [],
   "source": [
    "# Exploring the dataset in excel\n",
    "df.to_csv('newfile.csv') "
   ],
   "metadata": {
    "collapsed": false
   },
   "id": "da0b9691c4ab6ebf"
  },
  {
   "cell_type": "code",
   "execution_count": null,
   "outputs": [],
   "source": [
    "# Checking if the 'Cabin' column contains the letter 'F' followed by a space after exploring\n",
    "df[df['Cabin'].str.contains('F ', regex=False)]['Cabin']"
   ],
   "metadata": {
    "collapsed": false
   },
   "id": "40341ebbfc2b8983"
  },
  {
   "cell_type": "code",
   "execution_count": null,
   "outputs": [],
   "source": [
    "df[df['Cabin'].str.contains('F ', regex=False)]['Cabin'].str.replace('F ','')"
   ],
   "metadata": {
    "collapsed": false
   },
   "id": "792a259b5db64441"
  },
  {
   "cell_type": "code",
   "execution_count": null,
   "outputs": [],
   "source": [
    "df.loc[df['Cabin'].str.contains('F ', regex=False), ['Cabin']] = df[df['Cabin'].str.contains('F ', regex=False)]['Cabin'].str.replace('F ','')"
   ],
   "metadata": {
    "collapsed": false
   },
   "id": "7a253becfae5d19b"
  },
  {
   "cell_type": "code",
   "execution_count": null,
   "outputs": [],
   "source": [
    "# Making sure 'Cabin' value has more than one character\n",
    "df = df[df['Cabin'].str.len() > 1]"
   ],
   "metadata": {
    "collapsed": false
   },
   "id": "6f8a6c588a0cb724"
  },
  {
   "cell_type": "code",
   "execution_count": null,
   "outputs": [],
   "source": [
    "df"
   ],
   "metadata": {
    "collapsed": false
   },
   "id": "cb74fa7f93dec23b"
  },
  {
   "cell_type": "code",
   "execution_count": null,
   "outputs": [],
   "source": [
    "#selecting only the first letter of the str\n",
    "df.loc[:,'Cabin'] = df['Cabin'].str[0]"
   ],
   "metadata": {
    "collapsed": false
   },
   "id": "ec66a3150635a73f"
  },
  {
   "cell_type": "code",
   "execution_count": null,
   "outputs": [],
   "source": [
    "df.groupby('Cabin')['Survived'].mean()"
   ],
   "metadata": {
    "collapsed": false
   },
   "id": "64d15d2ac20326e1"
  },
  {
   "cell_type": "markdown",
   "source": [
    "### Decks B, D, and E had relatively higher survival rates, indicating a greater proportion of survivors compared to other decks.\n",
    "### Decks A and C had moderate survival rates, while Deck G had a 50% survival rate.\n",
    "### Deck F showed a 100% survival rate."
   ],
   "metadata": {
    "collapsed": false
   },
   "id": "a2dc92ee9cf0bbab"
  },
  {
   "cell_type": "code",
   "execution_count": null,
   "outputs": [],
   "source": [],
   "metadata": {
    "collapsed": false
   },
   "id": "701519c12f832f67"
  }
 ],
 "metadata": {
  "kernelspec": {
   "display_name": "Python 3",
   "language": "python",
   "name": "python3"
  },
  "language_info": {
   "codemirror_mode": {
    "name": "ipython",
    "version": 2
   },
   "file_extension": ".py",
   "mimetype": "text/x-python",
   "name": "python",
   "nbconvert_exporter": "python",
   "pygments_lexer": "ipython2",
   "version": "2.7.6"
  }
 },
 "nbformat": 4,
 "nbformat_minor": 5
}
