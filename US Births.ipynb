{
 "cells": [
  {
   "cell_type": "code",
   "execution_count": null,
   "id": "initial_id",
   "metadata": {
    "collapsed": true
   },
   "outputs": [],
   "source": [
    "import pandas as pd\n",
    "import matplotlib.pyplot as plt "
   ]
  },
  {
   "cell_type": "code",
   "execution_count": null,
   "outputs": [],
   "source": [
    "df =pd.read_csv('https://raw.githubusercontent.com/jakevdp/data-CDCbirths/master/births.csv')"
   ],
   "metadata": {
    "collapsed": false
   },
   "id": "65b2b348563f4069"
  },
  {
   "cell_type": "code",
   "execution_count": null,
   "outputs": [],
   "source": [
    "df[\"modified_year\"] = ((df['year'])//10)* 10"
   ],
   "metadata": {
    "collapsed": false
   },
   "id": "60052b38d4b2d46a"
  },
  {
   "cell_type": "code",
   "execution_count": null,
   "outputs": [],
   "source": [
    "df"
   ],
   "metadata": {
    "collapsed": false
   },
   "id": "34b448d2ea095c7a"
  },
  {
   "cell_type": "code",
   "execution_count": null,
   "outputs": [],
   "source": [
    "df_pivot=df.pivot_table('births',index='modified_year', columns= 'gender', aggfunc='sum')\n",
    "df_pivot"
   ],
   "metadata": {
    "collapsed": false
   },
   "id": "c50d78b621209735"
  },
  {
   "cell_type": "code",
   "execution_count": null,
   "outputs": [],
   "source": [
    "# Calculate total births for each gender\n",
    "total_female_birth = df_pivot['F'].sum()\n",
    "total_male_birth = df_pivot['M'].sum()\n",
    "\n",
    "# Compare total births for each gender\n",
    "if total_female_birth > total_male_birth:\n",
    "    print(\"There are more female births.\")\n",
    "elif total_male_birth > total_female_birth:\n",
    "    print(\"There are more male births.\")\n",
    "else:\n",
    "    print(\"There are an equal number of male and female births.\")\n"
   ],
   "metadata": {
    "collapsed": false
   },
   "id": "bf84a805f81eb23b"
  },
  {
   "cell_type": "markdown",
   "source": [
    "### From this data:\n",
    "### The total number of births seems to increase from 1960 to 1990.\n",
    "### However, there appears to be a decrease in total births from 1990 to 2000."
   ],
   "metadata": {
    "collapsed": false
   },
   "id": "3d311a64b4dccfa2"
  },
  {
   "cell_type": "code",
   "execution_count": null,
   "outputs": [],
   "source": [
    "# Assuming df_pivot contains your data\n",
    "plt.plot(df_pivot.index, df_pivot['F'], label='Female')\n",
    "plt.plot(df_pivot.index, df_pivot['M'], label='Male')\n",
    "\n",
    "plt.xlabel('Year')\n",
    "plt.ylabel('Births')\n",
    "plt.title('Births by Year and Gender')\n",
    "plt.legend(title='Gender')\n",
    "plt.show()"
   ],
   "metadata": {
    "collapsed": false
   },
   "id": "7bc6c797bc193c64"
  }
 ],
 "metadata": {
  "kernelspec": {
   "display_name": "Python 3",
   "language": "python",
   "name": "python3"
  },
  "language_info": {
   "codemirror_mode": {
    "name": "ipython",
    "version": 2
   },
   "file_extension": ".py",
   "mimetype": "text/x-python",
   "name": "python",
   "nbconvert_exporter": "python",
   "pygments_lexer": "ipython2",
   "version": "2.7.6"
  }
 },
 "nbformat": 4,
 "nbformat_minor": 5
}
